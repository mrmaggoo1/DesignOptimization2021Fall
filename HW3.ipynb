{
  "nbformat": 4,
  "nbformat_minor": 0,
  "metadata": {
    "colab": {
      "provenance": [],
      "authorship_tag": "ABX9TyOIAjLkb25/1p9rhJv3iHD8",
      "include_colab_link": true
    },
    "kernelspec": {
      "name": "python3",
      "display_name": "Python 3"
    },
    "language_info": {
      "name": "python"
    }
  },
  "cells": [
    {
      "cell_type": "markdown",
      "metadata": {
        "id": "view-in-github",
        "colab_type": "text"
      },
      "source": [
        "<a href=\"https://colab.research.google.com/github/mrmaggoo1/DesignOptimization2021Fall/blob/main/HW3.ipynb\" target=\"_parent\"><img src=\"https://colab.research.google.com/assets/colab-badge.svg\" alt=\"Open In Colab\"/></a>"
      ]
    },
    {
      "cell_type": "code",
      "execution_count": 35,
      "metadata": {
        "id": "piZE7-F6FJFU",
        "colab": {
          "base_uri": "https://localhost:8080/"
        },
        "outputId": "96d7b84e-dd09-421e-baea-1e2dfaacd7e7"
      },
      "outputs": [
        {
          "output_type": "stream",
          "name": "stdout",
          "text": [
            "Local solution exists at [-1.5739877   1.37736099 -0.19662671]\n"
          ]
        }
      ],
      "source": [
        "# P5\n",
        "import numpy as np\n",
        "import math\n",
        "from matplotlib import pyplot as plt\n",
        "\n",
        "# Define the objective function\n",
        "def objfun(x):\n",
        "    a1 = x[0]\n",
        "    a2 = x[1]\n",
        "    a3 = x[2]\n",
        "    return a1**2 + a2**2 + a3**2\n",
        "\n",
        "# Derivatives\n",
        "def Pfpd(x):\n",
        "    return 2 * x[0]\n",
        "\n",
        "def Pfps(x):\n",
        "    return np.array([2 * x[1], 2 * x[2]])\n",
        "\n",
        "def Phps(x):\n",
        "    return np.array([[2/5 * x[1], 2/25 * x[2]], [1, -1]])\n",
        "\n",
        "def Phpd(x):\n",
        "    return np.array([[x[0]/2], [1]])\n",
        "\n",
        "# Calculate the reduced gradient\n",
        "def Dfdd(x):\n",
        "    return Pfpd(x) - np.matmul(np.matmul(Pfps(x), np.linalg.inv(Phps(x))), Phpd(x))\n",
        "\n",
        "# Function for line search to find a suitable step size\n",
        "def linesearch(dfdd, x):\n",
        "    b = 1\n",
        "    c = 0.5\n",
        "    t = 0.3\n",
        "    while objfun(xeval(x, b, dfdd)) > (objfun(x) - b * t * dfdd**2):\n",
        "        b = c * b\n",
        "    return b\n",
        "\n",
        "# Solve for x given intermediate values\n",
        "def solve(x):  #Takes in intermediate x value [dk, sk0], gives final x value [dk, sk]\n",
        "    while np.linalg.norm(np.array([ [ x[0]**2/4 + x[1]**2/5 + x[2]**2/25 -1 ], [x[0]+x[1]-x[2] ] ]))  > e: #While |h| > e\n",
        "        phps=Phps(x)\n",
        "        skj1= np.transpose( np.transpose([x[1:3]]) - np.matmul( np.linalg.inv(phps), np.array([ [ x[0]**2/4 + x[1]**2/5 + x[2]**2/25 -1 ], [x[0]+x[1]-x[2] ] ])   ))  #Transposing in step 2.\n",
        "        x=np.append(x[0:1], np.transpose(skj1[0]))\n",
        "    return x\n",
        "\n",
        "# loop for convergence\n",
        "a1 = 0\n",
        "a3 = 1/12 * (math.sqrt(600 - 170 * (a1**2)) + 10 * a1)\n",
        "a2 = a3 - a1\n",
        "a0 = np.array([a1, a2, a3])  # a2 and a3 are state variables\n",
        "e = 1e-3\n",
        "x_store = [a0]\n",
        "err = []\n",
        "\n",
        "while np.linalg.norm(Dfdd(x_store[-1])) > e:\n",
        "    x = x_store[-1]\n",
        "    dfdd = Dfdd(x)\n",
        "    err.append(math.log(np.linalg.norm(dfdd)))\n",
        "    b = linesearch(dfdd, x)\n",
        "    dk = x[0] - b * dfdd\n",
        "    sk0 = x[1:3] + b * np.transpose(np.matmul(np.matmul(np.linalg.inv(Phps(x)), Phpd(x)), np.transpose(dfdd)))\n",
        "    xk0 = np.append(dk, sk0)\n",
        "    x = solve(xk0)\n",
        "    x_store.append(x)\n",
        "\n",
        "print('Local solution exists at ' + str(x_store[-1]))\n"
      ]
    }
  ]
}